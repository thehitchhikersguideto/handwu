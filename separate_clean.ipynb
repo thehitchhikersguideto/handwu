{
 "cells": [
  {
   "attachments": {},
   "cell_type": "markdown",
   "metadata": {},
   "source": [
    "# Rename Files"
   ]
  },
  {
   "cell_type": "code",
   "execution_count": 6,
   "metadata": {},
   "outputs": [
    {
     "name": "stdout",
     "output_type": "stream",
     "text": [
      "Fuente0\n",
      "Fuente1\n",
      "Fuente10\n",
      "Fuente2\n",
      "Fuente3\n",
      "Fuente4\n",
      "Fuente5\n",
      "Fuente6\n",
      "Fuente7\n",
      "Fuente8\n",
      "Fuente9\n"
     ]
    }
   ],
   "source": [
    "import os\n",
    "\n",
    "def rename_files():\n",
    "    # Iterate through every folder\n",
    "    for folder_name in os.listdir('session_12_Group_Work/'):\n",
    "        if folder_name.startswith('.'):\n",
    "            continue\n",
    "        print(folder_name)\n",
    "\n",
    "        # Append folder name at the beginning of every file\n",
    "        for filename in os.listdir('session_12_Group_Work/' + folder_name):\n",
    "            if filename.startswith('.'):\n",
    "                continue\n",
    "            else:\n",
    "                new_filename = f\"{folder_name}_{filename}\"\n",
    "                file_path = os.path.join('session_12_Group_Work/' + folder_name, filename)\n",
    "                new_file_path = os.path.join('session_12_Group_Work/' + folder_name, new_filename)\n",
    "                os.rename(file_path, new_file_path)\n",
    "\n",
    "rename_files()"
   ]
  },
  {
   "attachments": {},
   "cell_type": "markdown",
   "metadata": {},
   "source": [
    "# Separate Training"
   ]
  },
  {
   "cell_type": "code",
   "execution_count": 9,
   "metadata": {},
   "outputs": [
    {
     "name": "stdout",
     "output_type": "stream",
     "text": [
      "Fuente0\n"
     ]
    }
   ],
   "source": [
    "import os\n",
    "import shutil\n",
    "\n",
    "def separate_files():\n",
    "    # Iterate through first 3 folders\n",
    "    for i in range(0, 1):\n",
    "        folder_name = f\"Fuente{i}\"\n",
    "        if not os.path.isdir('session_12_Group_Work/'+ folder_name):\n",
    "            continue\n",
    "        print(folder_name)\n",
    "\n",
    "        # Create training/labels and training/images folders\n",
    "        labels_folder = os.path.join(\"cleaned_data/training\", \"labels\")\n",
    "        images_folder = os.path.join(\"cleaned_data/training\", \"images\")\n",
    "        os.makedirs(labels_folder, exist_ok=True)\n",
    "        os.makedirs(images_folder, exist_ok=True)\n",
    "\n",
    "        # Separate csv files into labels folder and images into images folder\n",
    "        for filename in os.listdir('session_12_Group_Work/' + folder_name):\n",
    "            if filename.startswith('.'):\n",
    "                continue\n",
    "            elif filename.endswith(\".csv\"):\n",
    "                file_path = os.path.join('session_12_Group_Work/' + folder_name, filename)\n",
    "                new_file_path = os.path.join(labels_folder, filename)\n",
    "                shutil.copy(file_path, new_file_path)\n",
    "            else:\n",
    "                file_path = os.path.join('session_12_Group_Work/' + folder_name, filename)\n",
    "                new_file_path = os.path.join(images_folder, filename)\n",
    "                shutil.copy(file_path, new_file_path)\n",
    "\n",
    "separate_files()"
   ]
  },
  {
   "attachments": {},
   "cell_type": "markdown",
   "metadata": {},
   "source": [
    "# Separate Validation"
   ]
  },
  {
   "cell_type": "code",
   "execution_count": 10,
   "metadata": {},
   "outputs": [
    {
     "name": "stdout",
     "output_type": "stream",
     "text": [
      "Fuente1\n"
     ]
    }
   ],
   "source": [
    "import os\n",
    "import shutil\n",
    "\n",
    "def separate_files():\n",
    "    # Iterate through first 7 folders\n",
    "    for i in range(1, 2):\n",
    "        folder_name = f\"Fuente{i}\"\n",
    "        if not os.path.isdir('session_12_Group_Work/'+ folder_name):\n",
    "            continue\n",
    "        print(folder_name)\n",
    "\n",
    "        # Create training/labels and training/images folders\n",
    "        labels_folder = os.path.join(\"cleaned_data/validation\", \"labels\")\n",
    "        images_folder = os.path.join(\"cleaned_data/validation\", \"images\")\n",
    "        os.makedirs(labels_folder, exist_ok=True)\n",
    "        os.makedirs(images_folder, exist_ok=True)\n",
    "\n",
    "        # Separate csv files into labels folder and images into images folder\n",
    "        for filename in os.listdir('session_12_Group_Work/' + folder_name):\n",
    "            if filename.startswith('.'):\n",
    "                continue\n",
    "            elif filename.endswith(\".csv\"):\n",
    "                file_path = os.path.join('session_12_Group_Work/' + folder_name, filename)\n",
    "                new_file_path = os.path.join(labels_folder, filename)\n",
    "                shutil.copy(file_path, new_file_path)\n",
    "            else:\n",
    "                file_path = os.path.join('session_12_Group_Work/' + folder_name, filename)\n",
    "                new_file_path = os.path.join(images_folder, filename)\n",
    "                shutil.copy(file_path, new_file_path)\n",
    "\n",
    "separate_files()"
   ]
  },
  {
   "attachments": {},
   "cell_type": "markdown",
   "metadata": {},
   "source": [
    "# Separate Demo"
   ]
  },
  {
   "cell_type": "code",
   "execution_count": 11,
   "metadata": {},
   "outputs": [
    {
     "name": "stdout",
     "output_type": "stream",
     "text": [
      "Fuente10\n"
     ]
    }
   ],
   "source": [
    "import os\n",
    "import shutil\n",
    "\n",
    "def separate_files():\n",
    "    # Iterate through first 7 folders\n",
    "    for i in range(10, 11):\n",
    "        folder_name = f\"Fuente{i}\"\n",
    "        if not os.path.isdir('session_12_Group_Work/'+ folder_name):\n",
    "            continue\n",
    "        print(folder_name)\n",
    "\n",
    "        # Create training/labels and training/images folders\n",
    "        labels_folder = os.path.join(\"cleaned_data/demo\", \"labels\")\n",
    "        images_folder = os.path.join(\"cleaned_data/demo\", \"images\")\n",
    "        os.makedirs(labels_folder, exist_ok=True)\n",
    "        os.makedirs(images_folder, exist_ok=True)\n",
    "\n",
    "        # Separate csv files into labels folder and images into images folder\n",
    "        for filename in os.listdir('session_12_Group_Work/' + folder_name):\n",
    "            if filename.startswith('.'):\n",
    "                continue\n",
    "            elif filename.endswith(\".csv\"):\n",
    "                file_path = os.path.join('session_12_Group_Work/' + folder_name, filename)\n",
    "                new_file_path = os.path.join(labels_folder, filename)\n",
    "                shutil.copy(file_path, new_file_path)\n",
    "            else:\n",
    "                file_path = os.path.join('session_12_Group_Work/' + folder_name, filename)\n",
    "                new_file_path = os.path.join(images_folder, filename)\n",
    "                shutil.copy(file_path, new_file_path)\n",
    "\n",
    "separate_files()"
   ]
  },
  {
   "attachments": {},
   "cell_type": "markdown",
   "metadata": {},
   "source": [
    "# Clean CSV Files"
   ]
  },
  {
   "cell_type": "code",
   "execution_count": 12,
   "metadata": {},
   "outputs": [
    {
     "name": "stdout",
     "output_type": "stream",
     "text": [
      "cleaning training labels...\n",
      "cleaning validation labels...\n",
      "cleaning demo labels...\n"
     ]
    }
   ],
   "source": [
    "import os\n",
    "import pandas as pd\n",
    "\n",
    "train_labels_path = \"cleaned_data/training/labels\"\n",
    "val_labels_path = \"cleaned_data/validation/labels\"\n",
    "demo_labels_path = \"cleaned_data/demo/labels\"\n",
    "\n",
    "train_labels_files = os.listdir(train_labels_path)\n",
    "val_labels_files = os.listdir(val_labels_path)\n",
    "demo_labels_files = os.listdir(demo_labels_path)\n",
    "\n",
    "print(\"cleaning training labels...\")\n",
    "\n",
    "for file in train_labels_files:\n",
    "    if file.endswith('.csv'):\n",
    "        df = pd.read_csv(os.path.join(train_labels_path, file))\n",
    "        df.drop(df.columns[[0, 1]], axis=1, inplace=True)\n",
    "        df.to_csv(os.path.join(train_labels_path, file), index=False)\n",
    "\n",
    "print(\"cleaning validation labels...\")\n",
    "\n",
    "for file in val_labels_files:\n",
    "    if file.endswith('.csv'):\n",
    "        df = pd.read_csv(os.path.join(val_labels_path, file))\n",
    "        df.drop(df.columns[[0, 1]], axis=1, inplace=True)\n",
    "        df.to_csv(os.path.join(val_labels_path, file), index=False)\n",
    "\n",
    "print(\"cleaning demo labels...\")\n",
    "\n",
    "for file in demo_labels_files:\n",
    "    if file.endswith('.csv'):\n",
    "        df = pd.read_csv(os.path.join(demo_labels_path, file))\n",
    "        df.drop(df.columns[[0, 1]], axis=1, inplace=True)\n",
    "        df.to_csv(os.path.join(demo_labels_path, file), index=False)"
   ]
  },
  {
   "attachments": {},
   "cell_type": "markdown",
   "metadata": {},
   "source": [
    "# A"
   ]
  },
  {
   "cell_type": "code",
   "execution_count": null,
   "metadata": {},
   "outputs": [],
   "source": [
    "from sklearn.model_selection import train_test_split\n",
    "import os\n",
    "\n",
    "path_images = 'cleaned_data/training/images'\n",
    "train_path_images = 'nu/train/images'\n",
    "test_path_images = 'nu/test/images'\n",
    "os.makedirs(train_path_images, exist_ok=True)\n",
    "os.makedirs(test_path_images, exist_ok=True)\n",
    "\n",
    "files = os.listdir(path_images)\n",
    "train_files, test_files = train_test_split(files, test_size=0.3)\n",
    "\n",
    "for file in train_files:\n",
    "    shutil.copy(os.path.join(path_images, file), os.path.join(train_path_images, file))\n",
    "\n",
    "for file in test_files:\n",
    "    shutil.copy(os.path.join(path_images, file), os.path.join(test_path_images, file))\n",
    "\n",
    "path_labels = 'cleaned_data/training/labels'\n",
    "train_path_labels = 'nu/train/labels'\n",
    "test_path_labels = 'nu/test/labels'\n",
    "os.makedirs(train_path_labels, exist_ok=True)\n",
    "os.makedirs(test_path_labels, exist_ok=True)\n",
    "\n",
    "for file in os.listdir(train_path_images):\n",
    "    for label_file in os.listdir(path_labels):\n",
    "        if file.split('.')[0]+'.csv' == label_file:\n",
    "            shutil.copy(os.path.join(path_labels, label_file), os.path.join(train_path_labels, label_file))\n",
    "\n",
    "for file in os.listdir(test_path_images):\n",
    "    for label_file in os.listdir(path_labels):\n",
    "        if file.split('.')[0]+'.csv' == label_file:\n",
    "            shutil.copy(os.path.join(path_labels, label_file), os.path.join(test_path_labels, label_file))"
   ]
  }
 ],
 "metadata": {
  "kernelspec": {
   "display_name": "base",
   "language": "python",
   "name": "python3"
  },
  "language_info": {
   "codemirror_mode": {
    "name": "ipython",
    "version": 3
   },
   "file_extension": ".py",
   "mimetype": "text/x-python",
   "name": "python",
   "nbconvert_exporter": "python",
   "pygments_lexer": "ipython3",
   "version": "3.10.9"
  },
  "orig_nbformat": 4
 },
 "nbformat": 4,
 "nbformat_minor": 2
}
