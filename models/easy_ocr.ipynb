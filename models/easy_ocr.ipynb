{
 "cells": [
  {
   "cell_type": "code",
   "execution_count": null,
   "metadata": {},
   "outputs": [],
   "source": [
    "! pip install easyocr opencv-python"
   ]
  },
  {
   "cell_type": "code",
   "execution_count": 3,
   "metadata": {},
   "outputs": [
    {
     "name": "stdout",
     "output_type": "stream",
     "text": [
      "[INFO] Using the following languages: ['en']\n",
      "[INFO] Performing OCR on the input image...\n",
      "[INFO] 0.9982: Vehiculo B\n",
      "[INFO] 0.6507: 6]Asegurado (vease poliza de seguro}\n",
      "[INFO] 0.9989: NOMBRE:\n",
      "[INFO] 0.0284: iill\n",
      "[INFO] 0.9998: Apellidos:\n",
      "[INFO] 0.2595: +a\n",
      "[INFO] 0.5288: Direccion: LKillac\n",
      "[INFO] 0.1926: Codigo Postal: |7.2.72__Pais: *ik_&\n",
      "[INFO] 0.7315: Tel_\n",
      "[INFO] 0.6940: 0 E-mail:\n",
      "[INFO] 0.0990: 47244.\n",
      "[INFO] 0.1376: abreel@enacl2$\n"
     ]
    },
    {
     "name": "stderr",
     "output_type": "stream",
     "text": [
      "c:\\Users\\tonyf\\anaconda3\\lib\\site-packages\\torchvision\\io\\image.py:13: UserWarning: Failed to load image Python extension: '[WinError 127] The specified procedure could not be found'If you don't plan on using image functionality from `torchvision.io`, you can ignore this warning. Otherwise, there might be something wrong with your environment. Did you have `libjpeg` or `libpng` installed before building `torchvision` from source?\n",
      "  warn(\n",
      "Using CPU. Note: This module is much faster with a GPU.\n"
     ]
    }
   ],
   "source": [
    "import os\n",
    "os.environ[\"KMP_DUPLICATE_LIB_OK\"]=\"TRUE\"\n",
    "! python easy_ocr.py --image ../test/test.jpg --langs en --gpu -1"
   ]
  }
 ],
 "metadata": {
  "kernelspec": {
   "display_name": "base",
   "language": "python",
   "name": "python3"
  },
  "language_info": {
   "codemirror_mode": {
    "name": "ipython",
    "version": 3
   },
   "file_extension": ".py",
   "mimetype": "text/x-python",
   "name": "python",
   "nbconvert_exporter": "python",
   "pygments_lexer": "ipython3",
   "version": "3.10.9"
  },
  "orig_nbformat": 4
 },
 "nbformat": 4,
 "nbformat_minor": 2
}
