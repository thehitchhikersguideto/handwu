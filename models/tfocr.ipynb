{
 "cells": [
  {
   "attachments": {},
   "cell_type": "markdown",
   "metadata": {},
   "source": [
    "# Training"
   ]
  },
  {
   "cell_type": "code",
   "execution_count": 1,
   "metadata": {},
   "outputs": [],
   "source": [
    "from tensorflow.keras.preprocessing.image import ImageDataGenerator\n",
    "from tensorflow.keras.optimizers.legacy import SGD\n",
    "from sklearn.preprocessing import LabelBinarizer\n",
    "from sklearn.model_selection import train_test_split\n",
    "from sklearn.metrics import classification_report"
   ]
  },
  {
   "cell_type": "code",
   "execution_count": 24,
   "metadata": {},
   "outputs": [],
   "source": [
    "from imutils import build_montages\n",
    "import matplotlib.pyplot as plt\n",
    "import argparse\n",
    "import cv2"
   ]
  },
  {
   "cell_type": "code",
   "execution_count": 2,
   "metadata": {},
   "outputs": [],
   "source": [
    "from tensorflow.keras.datasets import mnist\n",
    "import numpy as np\n",
    "\n",
    "def load_mnist_dataset():\n",
    "\n",
    "  # load data from tensorflow framework\n",
    "  ((trainData, trainLabels), (testData, testLabels)) = mnist.load_data() \n",
    "\n",
    "  # Stacking train data and test data to form single array named data\n",
    "  data = np.vstack([trainData, testData]) \n",
    "\n",
    "  # Vertical stacking labels of train and test set\n",
    "  labels = np.hstack([trainLabels, testLabels]) \n",
    "\n",
    "  # return a 2-tuple of the MNIST data and labels\n",
    "  return (data, labels)"
   ]
  },
  {
   "cell_type": "code",
   "execution_count": 3,
   "metadata": {},
   "outputs": [],
   "source": [
    "def load_az_dataset(datasetPath):\n",
    "\n",
    "  # List for storing data\n",
    "  data = []\n",
    "  \n",
    "  # List for storing labels\n",
    "  labels = []\n",
    "  \n",
    "  for row in open(datasetPath): #Openfile and start reading each row\n",
    "    #Split the row at every comma\n",
    "    row = row.split(\",\")\n",
    "    \n",
    "    #row[0] contains label\n",
    "    label = int(row[0])\n",
    "    \n",
    "    #Other all collumns contains pixel values make a saperate array for that\n",
    "    image = np.array([int(x) for x in row[1:]], dtype=\"uint8\")\n",
    "    \n",
    "    #Reshaping image to 28 x 28 pixels\n",
    "    image = image.reshape((28, 28))\n",
    "    \n",
    "    #append image to data\n",
    "    data.append(image)\n",
    "    \n",
    "    #append label to labels\n",
    "    labels.append(label)\n",
    "    \n",
    "  #Converting data to numpy array of type float32\n",
    "  data = np.array(data, dtype='float32')\n",
    "  \n",
    "  #Converting labels to type int\n",
    "  labels = np.array(labels, dtype=\"int\")\n",
    "  \n",
    "  return (data, labels)"
   ]
  },
  {
   "cell_type": "code",
   "execution_count": 4,
   "metadata": {},
   "outputs": [],
   "source": [
    "(digitsData, digitsLabels) = load_mnist_dataset()\n",
    "\n",
    "(azData, azLabels) = load_az_dataset('../tf_data/A_Z Handwritten Data.csv')"
   ]
  },
  {
   "cell_type": "code",
   "execution_count": 5,
   "metadata": {},
   "outputs": [],
   "source": [
    "import cv2\n",
    "# the MNIST dataset occupies the labels 0-9, so let's add 10 to every A-Z label to ensure the A-Z characters are not incorrectly labeled \n",
    "\n",
    "azLabels += 10\n",
    "\n",
    "# stack the A-Z data and labels with the MNIST digits data and labels\n",
    "\n",
    "data = np.vstack([azData, digitsData])\n",
    "labels = np.hstack([azLabels, digitsLabels])\n",
    "\n",
    "# Each image in the A-Z and MNIST digts datasets are 28x28 pixels;\n",
    "# However, the architecture we're using is designed for 32x32 images,\n",
    "# So we need to resize them to 32x32\n",
    "\n",
    "data = [cv2.resize(image, (32, 32)) for image in data]\n",
    "data = np.array(data, dtype=\"float32\")\n",
    "\n",
    "# add a channel dimension to every image in the dataset and scale the\n",
    "# pixel intensities of the images from [0, 255] down to [0, 1]\n",
    "\n",
    "data = np.expand_dims(data, axis=-1)\n",
    "data /= 255.0"
   ]
  },
  {
   "cell_type": "code",
   "execution_count": 6,
   "metadata": {},
   "outputs": [],
   "source": [
    "from sklearn import preprocessing\n",
    "le = preprocessing.LabelBinarizer()\n",
    "labels = le.fit_transform(labels)\n",
    "\n",
    "counts = labels.sum(axis=0)\n",
    "\n",
    "# account for skew in the labeled data\n",
    "classTotals = labels.sum(axis=0)\n",
    "classWeight = {}\n",
    "\n",
    "# loop over all classes and calculate the class weight\n",
    "for i in range(0, len(classTotals)):\n",
    "  classWeight[i] = classTotals.max() / classTotals[i]\n",
    "\n",
    "# partition the data into training and testing splits using 80% of\n",
    "# the data for training and the remaining 20% for testing\n",
    "(trainX, testX, trainY, testY) = train_test_split(data,\n",
    "\tlabels, test_size=0.20, stratify=labels, random_state=42)"
   ]
  },
  {
   "cell_type": "code",
   "execution_count": 7,
   "metadata": {},
   "outputs": [],
   "source": [
    "# construct the image generator for data augmentation\n",
    "import tensorflow as tf\n",
    "\n",
    "aug = tf.keras.preprocessing.image.ImageDataGenerator(\n",
    "rotation_range=10,\n",
    "zoom_range=0.05,\n",
    "width_shift_range=0.1,\n",
    "height_shift_range=0.1,\n",
    "shear_range=0.15,\n",
    "horizontal_flip=False,\n",
    "fill_mode=\"nearest\")"
   ]
  },
  {
   "cell_type": "code",
   "execution_count": 8,
   "metadata": {},
   "outputs": [],
   "source": [
    "from keras.layers.convolutional import Conv2D\n",
    "from keras.layers.convolutional import AveragePooling2D\n",
    "from keras.layers.convolutional import MaxPooling2D\n",
    "from keras.layers.convolutional import ZeroPadding2D\n",
    "from keras.layers.core import Activation\n",
    "from keras.layers.core import Dense\n",
    "from keras.layers import Flatten\n",
    "from keras.layers import Input\n",
    "from keras.models import Model\n",
    "from keras.layers import add\n",
    "from keras.regularizers import l2\n",
    "from keras import backend as K\n",
    "\n",
    "class ResNet:\n",
    "\t@staticmethod\n",
    "\tdef residual_module(data, K, stride, chanDim, red=False,\n",
    "\t\treg=0.0001, bnEps=2e-5, bnMom=0.9):\n",
    "\t\t# the shortcut branch of the ResNet module should be\n",
    "\t\t# initialize as the input (identity) data\n",
    "\t\tshortcut = data\n",
    "\n",
    "\t\t# the first block of the ResNet module are the 1x1 CONVs\n",
    "\t\tbn1 = tf.keras.layers.BatchNormalization(axis=chanDim, epsilon=bnEps,\n",
    "\t\t\tmomentum=bnMom)(data)\n",
    "\t\tact1 = Activation(\"relu\")(bn1)\n",
    "\t\tconv1 = Conv2D(int(K * 0.25), (1, 1), use_bias=False,\n",
    "\t\t\tkernel_regularizer=l2(reg))(act1)\n",
    "\n",
    "\t\t# the second block of the ResNet module are the 3x3 CONVs\n",
    "\t\tbn2 = tf.keras.layers.BatchNormalization(axis=chanDim, epsilon=bnEps,\n",
    "\t\t\tmomentum=bnMom)(conv1)\n",
    "\t\tact2 = Activation(\"relu\")(bn2)\n",
    "\t\tconv2 = Conv2D(int(K * 0.25), (3, 3), strides=stride,\n",
    "\t\t\tpadding=\"same\", use_bias=False,\n",
    "\t\t\tkernel_regularizer=l2(reg))(act2)\n",
    "\n",
    "\t\t# the third block of the ResNet module is another set of 1x1\n",
    "\t\t# CONVs\n",
    "\t\tbn3 = tf.keras.layers.BatchNormalization(axis=chanDim, epsilon=bnEps,\n",
    "\t\t\tmomentum=bnMom)(conv2)\n",
    "\t\tact3 = Activation(\"relu\")(bn3)\n",
    "\t\tconv3 = Conv2D(K, (1, 1), use_bias=False,\n",
    "\t\t\tkernel_regularizer=l2(reg))(act3)\n",
    "\n",
    "\t\t# if we are to reduce the spatial size, apply a CONV layer to\n",
    "\t\t# the shortcut\n",
    "\t\tif red:\n",
    "\t\t\tshortcut = Conv2D(K, (1, 1), strides=stride,\n",
    "\t\t\t\tuse_bias=False, kernel_regularizer=l2(reg))(act1)\n",
    "\n",
    "\t\t# add together the shortcut and the final CONV\n",
    "\t\tx = add([conv3, shortcut])\n",
    "\n",
    "\t\t# return the addition as the output of the ResNet module\n",
    "\t\treturn x\n",
    "\n",
    "\t@staticmethod\n",
    "\tdef build(width, height, depth, classes, stages, filters,\n",
    "\t\treg=0.0001, bnEps=2e-5, bnMom=0.9, dataset=\"cifar\"):\n",
    "\t\t# initialize the input shape to be \"channels last\" and the\n",
    "\t\t# channels dimension itself\n",
    "\t\tinputShape = (height, width, depth)\n",
    "\t\tchanDim = -1\n",
    "\n",
    "\t\t# if we are using \"channels first\", update the input shape\n",
    "\t\t# and channels dimension\n",
    "\t\tif K.image_data_format() == \"channels_first\":\n",
    "\t\t\tinputShape = (depth, height, width)\n",
    "\t\t\tchanDim = 1\n",
    "\n",
    "\t\t# set the input and apply BN\n",
    "\t\tinputs = Input(shape=inputShape)\n",
    "\t\tx = tf.keras.layers.BatchNormalization(axis=chanDim, epsilon=bnEps,\n",
    "\t\t\tmomentum=bnMom)(inputs)\n",
    "\n",
    "\t\t# check if we are utilizing the CIFAR dataset\n",
    "\t\tif dataset == \"cifar\":\n",
    "\t\t\t# apply a single CONV layer\n",
    "\t\t\tx = Conv2D(filters[0], (3, 3), use_bias=False,\n",
    "\t\t\t\tpadding=\"same\", kernel_regularizer=l2(reg))(x)\n",
    "\n",
    "\t\t# check to see if we are using the Tiny ImageNet dataset\n",
    "\t\telif dataset == \"tiny_imagenet\":\n",
    "\t\t\t# apply CONV => BN => ACT => POOL to reduce spatial size\n",
    "\t\t\tx = Conv2D(filters[0], (5, 5), use_bias=False,\n",
    "\t\t\t\tpadding=\"same\", kernel_regularizer=l2(reg))(x)\n",
    "\t\t\tx = tf.keras.layers.BatchNormalization(axis=chanDim, epsilon=bnEps,\n",
    "\t\t\t\tmomentum=bnMom)(x)\n",
    "\t\t\tx = Activation(\"relu\")(x)\n",
    "\t\t\tx = ZeroPadding2D((1, 1))(x)\n",
    "\t\t\tx = MaxPooling2D((3, 3), strides=(2, 2))(x)\n",
    "\n",
    "\t\t# loop over the number of stages\n",
    "\t\tfor i in range(0, len(stages)):\n",
    "\t\t\t# initialize the stride, then apply a residual module\n",
    "\t\t\t# used to reduce the spatial size of the input volume\n",
    "\t\t\tstride = (1, 1) if i == 0 else (2, 2)\n",
    "\t\t\tx = ResNet.residual_module(x, filters[i + 1], stride,\n",
    "\t\t\t\tchanDim, red=True, bnEps=bnEps, bnMom=bnMom)\n",
    "\n",
    "\t\t\t# loop over the number of layers in the stage\n",
    "\t\t\tfor j in range(0, stages[i] - 1):\n",
    "\t\t\t\t# apply a ResNet module\n",
    "\t\t\t\tx = ResNet.residual_module(x, filters[i + 1],\n",
    "\t\t\t\t\t(1, 1), chanDim, bnEps=bnEps, bnMom=bnMom)\n",
    "\n",
    "\t\t# apply BN => ACT => POOL\n",
    "\t\tx = tf.keras.layers.BatchNormalization(axis=chanDim, epsilon=bnEps,\n",
    "\t\t\tmomentum=bnMom)(x)\n",
    "\t\tx = Activation(\"relu\")(x)\n",
    "\t\tx = AveragePooling2D((8, 8))(x)\n",
    "\n",
    "\t\t# softmax classifier\n",
    "\t\tx = Flatten()(x)\n",
    "\t\tx = Dense(classes, kernel_regularizer=l2(reg))(x)\n",
    "\t\tx = Activation(\"softmax\")(x)\n",
    "\n",
    "\t\t# create the model\n",
    "\t\tmodel = Model(inputs, x, name=\"resnet\")\n",
    "\n",
    "\t\t# return the constructed network architecture\n",
    "\t\treturn model"
   ]
  },
  {
   "cell_type": "code",
   "execution_count": 9,
   "metadata": {},
   "outputs": [],
   "source": [
    "EPOCHS = 50\n",
    "INIT_LR = 1e-1\n",
    "BS = 128"
   ]
  },
  {
   "cell_type": "code",
   "execution_count": 10,
   "metadata": {},
   "outputs": [
    {
     "name": "stdout",
     "output_type": "stream",
     "text": [
      "Epoch 1/50\n",
      "2765/2765 [==============================] - 250s 84ms/step - loss: 1.8525 - accuracy: 0.8724 - val_loss: 0.5682 - val_accuracy: 0.8815\n",
      "Epoch 2/50\n",
      "2765/2765 [==============================] - 223s 81ms/step - loss: 0.9248 - accuracy: 0.9301 - val_loss: 0.5790 - val_accuracy: 0.8753\n",
      "Epoch 3/50\n",
      "2765/2765 [==============================] - 225s 81ms/step - loss: 0.8524 - accuracy: 0.9356 - val_loss: 0.5611 - val_accuracy: 0.8844\n",
      "Epoch 4/50\n",
      "2765/2765 [==============================] - 221s 80ms/step - loss: 0.8105 - accuracy: 0.9383 - val_loss: 0.5872 - val_accuracy: 0.8738\n",
      "Epoch 5/50\n",
      "2765/2765 [==============================] - 229s 83ms/step - loss: 0.7887 - accuracy: 0.9400 - val_loss: 0.6285 - val_accuracy: 0.8519\n",
      "Epoch 6/50\n",
      "2765/2765 [==============================] - 225s 81ms/step - loss: 0.7645 - accuracy: 0.9415 - val_loss: 0.5591 - val_accuracy: 0.8750\n",
      "Epoch 7/50\n",
      "2765/2765 [==============================] - 220s 79ms/step - loss: 0.7473 - accuracy: 0.9436 - val_loss: 0.5027 - val_accuracy: 0.9001\n",
      "Epoch 8/50\n",
      "2765/2765 [==============================] - 222s 80ms/step - loss: 0.7321 - accuracy: 0.9458 - val_loss: 0.5182 - val_accuracy: 0.8888\n",
      "Epoch 9/50\n",
      "2765/2765 [==============================] - 223s 81ms/step - loss: 0.7200 - accuracy: 0.9469 - val_loss: 0.4575 - val_accuracy: 0.9248\n",
      "Epoch 10/50\n",
      "2765/2765 [==============================] - 218s 79ms/step - loss: 0.7115 - accuracy: 0.9485 - val_loss: 0.4874 - val_accuracy: 0.9078\n",
      "Epoch 11/50\n",
      "2765/2765 [==============================] - 220s 80ms/step - loss: 0.7022 - accuracy: 0.9495 - val_loss: 0.4871 - val_accuracy: 0.9053\n",
      "Epoch 12/50\n",
      "2765/2765 [==============================] - 226s 82ms/step - loss: 0.6924 - accuracy: 0.9510 - val_loss: 0.4764 - val_accuracy: 0.9103\n",
      "Epoch 13/50\n",
      "2765/2765 [==============================] - 218s 79ms/step - loss: 0.6855 - accuracy: 0.9517 - val_loss: 0.4702 - val_accuracy: 0.9145\n",
      "Epoch 14/50\n",
      "2765/2765 [==============================] - 224s 81ms/step - loss: 0.6788 - accuracy: 0.9528 - val_loss: 0.4312 - val_accuracy: 0.9435\n",
      "Epoch 15/50\n",
      "2765/2765 [==============================] - 225s 81ms/step - loss: 0.6729 - accuracy: 0.9533 - val_loss: 0.4022 - val_accuracy: 0.9597\n",
      "Epoch 16/50\n",
      "2765/2765 [==============================] - 227s 82ms/step - loss: 0.6696 - accuracy: 0.9544 - val_loss: 0.4151 - val_accuracy: 0.9520\n",
      "Epoch 17/50\n",
      "2765/2765 [==============================] - 241s 87ms/step - loss: 0.6600 - accuracy: 0.9557 - val_loss: 0.4066 - val_accuracy: 0.9577\n",
      "Epoch 18/50\n",
      "2765/2765 [==============================] - 224s 81ms/step - loss: 0.6569 - accuracy: 0.9555 - val_loss: 0.4107 - val_accuracy: 0.9553\n",
      "Epoch 19/50\n",
      "2765/2765 [==============================] - 220s 79ms/step - loss: 0.6519 - accuracy: 0.9566 - val_loss: 0.4022 - val_accuracy: 0.9593\n",
      "Epoch 20/50\n",
      "2765/2765 [==============================] - 220s 80ms/step - loss: 0.6485 - accuracy: 0.9572 - val_loss: 0.3990 - val_accuracy: 0.9609\n",
      "Epoch 21/50\n",
      "2765/2765 [==============================] - 218s 79ms/step - loss: 0.6473 - accuracy: 0.9577 - val_loss: 0.4054 - val_accuracy: 0.9576\n",
      "Epoch 22/50\n",
      "2765/2765 [==============================] - 215s 78ms/step - loss: 0.6371 - accuracy: 0.9582 - val_loss: 0.3949 - val_accuracy: 0.9619\n",
      "Epoch 23/50\n",
      "2765/2765 [==============================] - 217s 78ms/step - loss: 0.6377 - accuracy: 0.9588 - val_loss: 0.3893 - val_accuracy: 0.9642\n",
      "Epoch 24/50\n",
      "2765/2765 [==============================] - 328s 119ms/step - loss: 0.6313 - accuracy: 0.9591 - val_loss: 0.3793 - val_accuracy: 0.9674\n",
      "Epoch 25/50\n",
      "2765/2765 [==============================] - 388s 140ms/step - loss: 0.6315 - accuracy: 0.9596 - val_loss: 0.3854 - val_accuracy: 0.9653\n",
      "Epoch 26/50\n",
      "2765/2765 [==============================] - 386s 139ms/step - loss: 0.6287 - accuracy: 0.9595 - val_loss: 0.3936 - val_accuracy: 0.9615\n",
      "Epoch 27/50\n",
      "2765/2765 [==============================] - 360s 130ms/step - loss: 0.6249 - accuracy: 0.9607 - val_loss: 0.3747 - val_accuracy: 0.9689\n",
      "Epoch 28/50\n",
      "2765/2765 [==============================] - 362s 131ms/step - loss: 0.6209 - accuracy: 0.9609 - val_loss: 0.3848 - val_accuracy: 0.9646\n",
      "Epoch 29/50\n",
      "2765/2765 [==============================] - 364s 132ms/step - loss: 0.6163 - accuracy: 0.9613 - val_loss: 0.3775 - val_accuracy: 0.9673\n",
      "Epoch 30/50\n",
      "2765/2765 [==============================] - 340s 123ms/step - loss: 0.6163 - accuracy: 0.9614 - val_loss: 0.3795 - val_accuracy: 0.9669\n",
      "Epoch 31/50\n",
      "2765/2765 [==============================] - 335s 121ms/step - loss: 0.6131 - accuracy: 0.9622 - val_loss: 0.3982 - val_accuracy: 0.9580\n",
      "Epoch 32/50\n",
      "2765/2765 [==============================] - 315s 114ms/step - loss: 0.6099 - accuracy: 0.9621 - val_loss: 0.3772 - val_accuracy: 0.9677\n",
      "Epoch 33/50\n",
      "2765/2765 [==============================] - 347s 125ms/step - loss: 0.6065 - accuracy: 0.9629 - val_loss: 0.3748 - val_accuracy: 0.9677\n",
      "Epoch 34/50\n",
      "2765/2765 [==============================] - 324s 117ms/step - loss: 0.6072 - accuracy: 0.9626 - val_loss: 0.3719 - val_accuracy: 0.9686\n",
      "Epoch 35/50\n",
      "2765/2765 [==============================] - 310s 112ms/step - loss: 0.6005 - accuracy: 0.9637 - val_loss: 0.3779 - val_accuracy: 0.9667\n",
      "Epoch 36/50\n",
      "2765/2765 [==============================] - 320s 116ms/step - loss: 0.6018 - accuracy: 0.9637 - val_loss: 0.3694 - val_accuracy: 0.9698\n",
      "Epoch 37/50\n",
      "2765/2765 [==============================] - 345s 125ms/step - loss: 0.5971 - accuracy: 0.9640 - val_loss: 0.3695 - val_accuracy: 0.9690\n",
      "Epoch 38/50\n",
      "2765/2765 [==============================] - 354s 128ms/step - loss: 0.5960 - accuracy: 0.9641 - val_loss: 0.3732 - val_accuracy: 0.9680\n",
      "Epoch 39/50\n",
      "2765/2765 [==============================] - 338s 122ms/step - loss: 0.5957 - accuracy: 0.9646 - val_loss: 0.3702 - val_accuracy: 0.9693\n",
      "Epoch 40/50\n",
      "2765/2765 [==============================] - 332s 120ms/step - loss: 0.5943 - accuracy: 0.9652 - val_loss: 0.3787 - val_accuracy: 0.9664\n",
      "Epoch 41/50\n",
      "2765/2765 [==============================] - 383s 139ms/step - loss: 0.5916 - accuracy: 0.9650 - val_loss: 0.3686 - val_accuracy: 0.9688\n",
      "Epoch 42/50\n",
      "2765/2765 [==============================] - 324s 117ms/step - loss: 0.5883 - accuracy: 0.9656 - val_loss: 0.3809 - val_accuracy: 0.9645\n",
      "Epoch 43/50\n",
      "2765/2765 [==============================] - 333s 120ms/step - loss: 0.5875 - accuracy: 0.9653 - val_loss: 0.3644 - val_accuracy: 0.9699\n",
      "Epoch 44/50\n",
      "2765/2765 [==============================] - 334s 121ms/step - loss: 0.5845 - accuracy: 0.9657 - val_loss: 0.3688 - val_accuracy: 0.9684\n",
      "Epoch 45/50\n",
      "2765/2765 [==============================] - 372s 134ms/step - loss: 0.5824 - accuracy: 0.9662 - val_loss: 0.3644 - val_accuracy: 0.9702\n",
      "Epoch 46/50\n",
      "2765/2765 [==============================] - 351s 127ms/step - loss: 0.5820 - accuracy: 0.9663 - val_loss: 0.3659 - val_accuracy: 0.9696\n",
      "Epoch 47/50\n",
      "2765/2765 [==============================] - 355s 128ms/step - loss: 0.5809 - accuracy: 0.9667 - val_loss: 0.3799 - val_accuracy: 0.9641\n",
      "Epoch 48/50\n",
      "2765/2765 [==============================] - 358s 130ms/step - loss: 0.5806 - accuracy: 0.9664 - val_loss: 0.3700 - val_accuracy: 0.9689\n",
      "Epoch 49/50\n",
      "2765/2765 [==============================] - 333s 121ms/step - loss: 0.5757 - accuracy: 0.9672 - val_loss: 0.3636 - val_accuracy: 0.9708\n",
      "Epoch 50/50\n",
      "2765/2765 [==============================] - 332s 120ms/step - loss: 0.5779 - accuracy: 0.9674 - val_loss: 0.3632 - val_accuracy: 0.9703\n"
     ]
    }
   ],
   "source": [
    "opt = SGD(learning_rate=INIT_LR, decay=INIT_LR / EPOCHS)\n",
    "\n",
    "model = ResNet.build(32, 32, 1, len(le.classes_), (3, 3, 3),\n",
    "(64, 64, 128, 256), reg=0.0005)\n",
    "\n",
    "model.compile(loss=\"categorical_crossentropy\", optimizer=opt,metrics=[\"accuracy\"])\n",
    "\n",
    "H = model.fit(\n",
    "aug.flow(trainX, trainY, batch_size=BS),\n",
    "validation_data=(testX, testY),\n",
    "steps_per_epoch=len(trainX) // BS,epochs=EPOCHS,\n",
    "class_weight=classWeight,\n",
    "verbose=1)"
   ]
  },
  {
   "cell_type": "code",
   "execution_count": 11,
   "metadata": {},
   "outputs": [
    {
     "name": "stdout",
     "output_type": "stream",
     "text": [
      "692/692 [==============================] - 19s 17ms/step\n",
      "              precision    recall  f1-score   support\n",
      "\n",
      "           0       0.67      0.46      0.54      1381\n",
      "           1       0.98      0.98      0.98      1575\n",
      "           2       0.95      0.94      0.95      1398\n",
      "           3       0.99      0.99      0.99      1428\n",
      "           4       0.95      0.97      0.96      1365\n",
      "           5       0.85      0.93      0.89      1263\n",
      "           6       0.98      0.97      0.98      1375\n",
      "           7       0.98      0.99      0.98      1459\n",
      "           8       0.97      0.99      0.98      1365\n",
      "           9       0.99      0.98      0.99      1392\n",
      "           A       1.00      0.99      0.99      2774\n",
      "           B       0.98      0.99      0.98      1734\n",
      "           C       0.99      0.99      0.99      4682\n",
      "           D       0.88      0.99      0.93      2027\n",
      "           E       0.99      0.99      0.99      2288\n",
      "           F       0.96      0.99      0.98       232\n",
      "           G       0.97      0.96      0.97      1152\n",
      "           H       0.98      0.98      0.98      1444\n",
      "           I       0.97      0.99      0.98       224\n",
      "           J       0.98      0.97      0.98      1699\n",
      "           K       0.98      0.99      0.98      1121\n",
      "           L       0.98      0.99      0.98      2317\n",
      "           M       0.99      0.99      0.99      2467\n",
      "           N       0.99      0.99      0.99      3802\n",
      "           O       0.94      0.95      0.94     11565\n",
      "           P       1.00      0.99      0.99      3868\n",
      "           Q       0.96      0.99      0.98      1162\n",
      "           R       0.99      0.99      0.99      2313\n",
      "           S       0.99      0.97      0.98      9684\n",
      "           T       1.00      0.99      0.99      4499\n",
      "           U       0.99      0.99      0.99      5802\n",
      "           V       0.96      1.00      0.98       836\n",
      "           W       0.99      0.99      0.99      2157\n",
      "           X       0.98      0.99      0.98      1254\n",
      "           Y       0.98      0.96      0.97      2172\n",
      "           Z       0.94      0.97      0.95      1215\n",
      "\n",
      "    accuracy                           0.97     88491\n",
      "   macro avg       0.96      0.97      0.96     88491\n",
      "weighted avg       0.97      0.97      0.97     88491\n",
      "\n"
     ]
    }
   ],
   "source": [
    "labelNames = \"0123456789\"\n",
    "\n",
    "labelNames += \"ABCDEFGHIJKLMNOPQRSTUVWXYZ\"\n",
    "\n",
    "labelNames = [l for l in labelNames]\n",
    "\n",
    "predictions = model.predict(testX, batch_size=BS)\n",
    "\n",
    "print(classification_report(testY.argmax(axis=1), predictions.argmax(axis=1), target_names=labelNames))"
   ]
  },
  {
   "cell_type": "code",
   "execution_count": 12,
   "metadata": {},
   "outputs": [],
   "source": [
    "model.save('OCR_Resnet.h5',save_format=\".h5\")"
   ]
  },
  {
   "cell_type": "code",
   "execution_count": 15,
   "metadata": {},
   "outputs": [],
   "source": [
    "model.save('OCR_Resnet.keras',save_format=\".keras\")"
   ]
  },
  {
   "cell_type": "code",
   "execution_count": 17,
   "metadata": {},
   "outputs": [
    {
     "name": "stdout",
     "output_type": "stream",
     "text": [
      "[INFO] serializing network...\n"
     ]
    },
    {
     "data": {
      "image/png": "[encoded data removed]",
      "text/plain": [
       "<Figure size 640x480 with 1 Axes>"
      ]
     },
     "metadata": {},
     "output_type": "display_data"
    }
   ],
   "source": [
    "# save the model to disk\n",
    "print(\"[INFO] serializing network...\")\n",
    "#model.save('first_model', save_format=\"h5\")\n",
    "# construct a plot that plots and saves the training history\n",
    "N = np.arange(0, EPOCHS)\n",
    "plt.style.use(\"ggplot\")\n",
    "plt.figure()\n",
    "plt.plot(N, H.history[\"loss\"], label=\"train_loss\")\n",
    "plt.plot(N, H.history[\"val_loss\"], label=\"val_loss\")\n",
    "plt.title(\"Training Loss and Accuracy\")\n",
    "plt.xlabel(\"Epoch #\")\n",
    "plt.ylabel(\"Loss/Accuracy\")\n",
    "plt.legend(loc=\"lower left\")\n",
    "plt.show()\n",
    "#plt.savefig('plot')"
   ]
  },
  {
   "cell_type": "code",
   "execution_count": 18,
   "metadata": {},
   "outputs": [],
   "source": [
    "output = \"\""
   ]
  },
  {
   "cell_type": "code",
   "execution_count": 30,
   "metadata": {},
   "outputs": [
    {
     "name": "stdout",
     "output_type": "stream",
     "text": [
      "1/1 [==============================] - 0s 33ms/step\n",
      "1/1 [==============================] - 0s 58ms/step\n",
      "1/1 [==============================] - 0s 44ms/step\n",
      "1/1 [==============================] - 0s 47ms/step\n",
      "1/1 [==============================] - 0s 40ms/step\n",
      "1/1 [==============================] - 0s 36ms/step\n",
      "1/1 [==============================] - 0s 33ms/step\n",
      "1/1 [==============================] - 0s 32ms/step\n",
      "1/1 [==============================] - 0s 40ms/step\n",
      "1/1 [==============================] - 0s 37ms/step\n",
      "1/1 [==============================] - 0s 53ms/step\n",
      "1/1 [==============================] - 0s 50ms/step\n",
      "1/1 [==============================] - 0s 42ms/step\n",
      "1/1 [==============================] - 0s 44ms/step\n",
      "1/1 [==============================] - 0s 43ms/step\n",
      "1/1 [==============================] - 0s 40ms/step\n",
      "1/1 [==============================] - 0s 40ms/step\n",
      "1/1 [==============================] - 0s 34ms/step\n",
      "1/1 [==============================] - 0s 42ms/step\n",
      "1/1 [==============================] - 0s 42ms/step\n",
      "1/1 [==============================] - 0s 49ms/step\n",
      "1/1 [==============================] - 0s 43ms/step\n",
      "1/1 [==============================] - 0s 38ms/step\n",
      "1/1 [==============================] - 0s 41ms/step\n",
      "1/1 [==============================] - 0s 48ms/step\n",
      "1/1 [==============================] - 0s 30ms/step\n",
      "1/1 [==============================] - 0s 50ms/step\n",
      "1/1 [==============================] - 0s 30ms/step\n",
      "1/1 [==============================] - 0s 35ms/step\n",
      "1/1 [==============================] - 0s 43ms/step\n",
      "1/1 [==============================] - 0s 57ms/step\n",
      "1/1 [==============================] - 0s 40ms/step\n",
      "1/1 [==============================] - 0s 33ms/step\n",
      "1/1 [==============================] - 0s 44ms/step\n",
      "1/1 [==============================] - 0s 38ms/step\n",
      "1/1 [==============================] - 0s 33ms/step\n",
      "1/1 [==============================] - 0s 34ms/step\n",
      "1/1 [==============================] - 0s 35ms/step\n",
      "1/1 [==============================] - 0s 31ms/step\n",
      "1/1 [==============================] - 0s 41ms/step\n",
      "1/1 [==============================] - 0s 51ms/step\n",
      "1/1 [==============================] - 0s 35ms/step\n",
      "1/1 [==============================] - 0s 36ms/step\n",
      "1/1 [==============================] - 0s 48ms/step\n",
      "1/1 [==============================] - 0s 33ms/step\n",
      "1/1 [==============================] - 0s 30ms/step\n",
      "1/1 [==============================] - 0s 28ms/step\n",
      "1/1 [==============================] - 0s 50ms/step\n",
      "1/1 [==============================] - 0s 35ms/step\n"
     ]
    }
   ],
   "source": [
    "images = []\n",
    "# randomly select a few testing characters\n",
    "for i in np.random.choice(np.arange(0, len(testY)), size=(49,)):\n",
    "  probs = model.predict(testX[np.newaxis, i])\n",
    "  prediction = probs.argmax(axis=1)\n",
    "  label = labelNames[prediction[0]]\n",
    "  output+=label\n",
    "  image = (testX[i] * 255).astype(\"uint8\")\n",
    "  color = (0, 255, 0)\n",
    "  if prediction[0] != np.argmax(testY[i]):\n",
    "    color = (0, 0, 255)\n",
    "  image = cv2.merge([image] * 3)\n",
    "  image = cv2.resize(image, (96, 96), interpolation=cv2.INTER_LINEAR)\n",
    "  cv2.putText(image, label, (5, 20), cv2.FONT_HERSHEY_SIMPLEX, 0.75,\n",
    "\t\tcolor, 2)\n",
    "  images.append(image)\n",
    "montage = build_montages(images, (96, 96), (7, 7))[0]\n",
    "cv2.imshow(\"montage\", montage)\n",
    "cv2.waitKey(0)\n",
    "cv2.destroyAllWindows()"
   ]
  },
  {
   "cell_type": "code",
   "execution_count": 31,
   "metadata": {},
   "outputs": [
    {
     "data": {
      "text/plain": [
       "'C1SOSOTPSAPCUKU1OUPORMSOSACKPS2TPOTSCHBCQU3VDOD4RU55QRONXBSUTDOAP0S921N25ORACQXK6P0HCSHFS2T2KTJ8991SH3MTSB7MYLUSSDBZUCPIRU0C1TUSTDPDSEJKSOH9HSHA9HTO55U4UUBR3TZUSO884SSUSA8BSSQLOORXLDONOOSOOPOGCEUEJZK7PCSJONASSCUS4TOZCR5U1OHOWW90TTPN66GGANY5S1LSY51OPUU6RNT7KSSUJPOCSPO4OBSCC6S11OJSE7ZDO3SRQTPOOHAR9N3SOHUXCBOT7SCUSAJOSOWSMPSUPVYSTSDLO1SOOCUAYO1'"
      ]
     },
     "execution_count": 31,
     "metadata": {},
     "output_type": "execute_result"
    }
   ],
   "source": [
    "output"
   ]
  },
  {
   "attachments": {},
   "cell_type": "markdown",
   "metadata": {},
   "source": [
    "# Testing"
   ]
  },
  {
   "cell_type": "code",
   "execution_count": 15,
   "metadata": {},
   "outputs": [],
   "source": [
    "from tensorflow.keras.models import load_model\n",
    "from imutils.contours import sort_contours\n",
    "import numpy as np\n",
    "import argparse\n",
    "import imutils\n",
    "import cv2"
   ]
  },
  {
   "cell_type": "code",
   "execution_count": 16,
   "metadata": {},
   "outputs": [],
   "source": [
    "loaded_model = load_model('OCR_Resnet.h5')"
   ]
  },
  {
   "cell_type": "code",
   "execution_count": 17,
   "metadata": {},
   "outputs": [],
   "source": [
    "image = cv2.imread('../test/test.jpg')"
   ]
  },
  {
   "cell_type": "code",
   "execution_count": 5,
   "metadata": {},
   "outputs": [],
   "source": [
    "gray = cv2.cvtColor(image, cv2.COLOR_BGR2GRAY)\n",
    "blurred = cv2.GaussianBlur(gray, (5, 5), 0)"
   ]
  },
  {
   "cell_type": "code",
   "execution_count": 19,
   "metadata": {},
   "outputs": [],
   "source": [
    "edged = cv2.Canny(blurred, 30, 150)\n",
    "cnts = cv2.findContours(edged.copy(), cv2.RETR_EXTERNAL,\n",
    "\tcv2.CHAIN_APPROX_SIMPLE)\n",
    "cnts = imutils.grab_contours(cnts)\n",
    "cnts = sort_contours(cnts, method=\"left-to-right\")[0]"
   ]
  },
  {
   "cell_type": "code",
   "execution_count": 7,
   "metadata": {},
   "outputs": [],
   "source": [
    "chars = []"
   ]
  },
  {
   "cell_type": "code",
   "execution_count": 8,
   "metadata": {},
   "outputs": [],
   "source": [
    "for c in cnts:\n",
    "\t# compute the bounding box of the contour\n",
    "\t(x, y, w, h) = cv2.boundingRect(c)\n",
    "\t# filter out bounding boxes, ensuring they are neither too small\n",
    "\t# nor too large\n",
    "\tif (w >= 5 and w <= 150) and (h >= 15 and h <= 120):\n",
    "\t\t# extract the character and threshold it to make the character\n",
    "\t\t# appear as *white* (foreground) on a *black* background, then\n",
    "\t\t# grab the width and height of the thresholded image\n",
    "\t\troi = gray[y:y + h, x:x + w]\n",
    "\t\tthresh = cv2.threshold(roi, 0, 255,\n",
    "\t\t\tcv2.THRESH_BINARY_INV | cv2.THRESH_OTSU)[1]\n",
    "\t\t(tH, tW) = thresh.shape\n",
    "\t\t# if the width is greater than the height, resize along the\n",
    "\t\t# width dimension\n",
    "\t\tif tW > tH:\n",
    "\t\t\tthresh = imutils.resize(thresh, width=32)\n",
    "\t\t# otherwise, resize along the height\n",
    "\t\telse:\n",
    "\t\t\tthresh = imutils.resize(thresh, height=32)\n",
    "   # re-grab the image dimensions (now that its been resized)\n",
    "\t\t# and then determine how much we need to pad the width and\n",
    "\t\t# height such that our image will be 32x32\n",
    "\t\t(tH, tW) = thresh.shape\n",
    "\t\tdX = int(max(0, 32 - tW) / 2.0)\n",
    "\t\tdY = int(max(0, 32 - tH) / 2.0)\n",
    "\t\t# pad the image and force 32x32 dimensions\n",
    "\t\tpadded = cv2.copyMakeBorder(thresh, top=dY, bottom=dY,\n",
    "\t\t\tleft=dX, right=dX, borderType=cv2.BORDER_CONSTANT,\n",
    "\t\t\tvalue=(0, 0, 0))\n",
    "\t\tpadded = cv2.resize(padded, (32, 32))\n",
    "\t\t# prepare the padded image for classification via our\n",
    "\t\t# handwriting OCR model\n",
    "\t\tpadded = padded.astype(\"float32\") / 255.0\n",
    "\t\tpadded = np.expand_dims(padded, axis=-1)\n",
    "\t\t# update our list of characters that will be OCR'd\n",
    "\t\tchars.append((padded, (x, y, w, h)))"
   ]
  },
  {
   "cell_type": "code",
   "execution_count": 9,
   "metadata": {},
   "outputs": [],
   "source": [
    "final_image=np.expand_dims(padded,axis=2)"
   ]
  },
  {
   "cell_type": "code",
   "execution_count": 10,
   "metadata": {},
   "outputs": [
    {
     "data": {
      "text/plain": [
       "(32, 32, 1, 1)"
      ]
     },
     "execution_count": 10,
     "metadata": {},
     "output_type": "execute_result"
    }
   ],
   "source": [
    "final_image.shape"
   ]
  },
  {
   "cell_type": "code",
   "execution_count": 11,
   "metadata": {},
   "outputs": [
    {
     "name": "stdout",
     "output_type": "stream",
     "text": [
      "1/1 [==============================] - 14s 14s/step\n"
     ]
    }
   ],
   "source": [
    "boxes = [b[1] for b in chars]\n",
    "chars = np.array([c[0] for c in chars], dtype=\"float32\")\n",
    "# OCR the characters using our handwriting recognition model\n",
    "preds = loaded_model.predict(chars)\n",
    "# define the list of label names\n",
    "labelNames = \"0123456789\"\n",
    "labelNames += \"ABCDEFGHIJKLMNOPQRSTUVWXYZ\"\n",
    "labelNames = [l for l in labelNames]"
   ]
  },
  {
   "cell_type": "code",
   "execution_count": 12,
   "metadata": {},
   "outputs": [],
   "source": [
    "output=\"\""
   ]
  },
  {
   "cell_type": "code",
   "execution_count": 13,
   "metadata": {},
   "outputs": [
    {
     "name": "stdout",
     "output_type": "stream",
     "text": [
      "[INFO] 6 - 51.34%\n",
      "[INFO] M - 99.39%\n",
      "[INFO] U - 78.91%\n",
      "[INFO] W - 97.57%\n",
      "[INFO] J - 89.07%\n",
      "[INFO] J - 71.95%\n",
      "[INFO] W - 99.93%\n",
      "[INFO] H - 77.44%\n",
      "[INFO] V - 97.78%\n",
      "[INFO] 2 - 55.24%\n",
      "[INFO] B - 78.75%\n",
      "[INFO] U - 31.81%\n",
      "[INFO] K - 24.94%\n",
      "[INFO] K - 54.68%\n",
      "[INFO] Z - 50.35%\n",
      "[INFO] 1 - 99.30%\n",
      "[INFO] E - 72.72%\n",
      "[INFO] W - 99.67%\n",
      "[INFO] E - 48.30%\n",
      "[INFO] 1 - 99.95%\n",
      "[INFO] Q - 53.05%\n",
      "[INFO] B - 99.11%\n",
      "[INFO] W - 90.81%\n",
      "[INFO] W - 99.28%\n"
     ]
    }
   ],
   "source": [
    "for (pred, (x, y, w, h)) in zip(preds, boxes):\n",
    "  i = np.argmax(pred)\n",
    "  prob = pred[i]\n",
    "  label = labelNames[i]\n",
    "  output+=label\n",
    "  print(\"[INFO] {} - {:.2f}%\".format(label, prob * 100))\n",
    "  cv2.rectangle(image, (x, y), (x + w, y + h), (0, 255, 0), 2)\n",
    "  cv2.putText(image, label, (x - 10, y - 10),cv2.FONT_HERSHEY_SIMPLEX, 1.2, (0, 255, 0), 2)"
   ]
  }
 ],
 "metadata": {
  "kernelspec": {
   "display_name": "Python 3",
   "language": "python",
   "name": "python3"
  },
  "language_info": {
   "codemirror_mode": {
    "name": "ipython",
    "version": 3
   },
   "file_extension": ".py",
   "mimetype": "text/x-python",
   "name": "python",
   "nbconvert_exporter": "python",
   "pygments_lexer": "ipython3",
   "version": "3.10.9"
  },
  "orig_nbformat": 4
 },
 "nbformat": 4,
 "nbformat_minor": 2
}
