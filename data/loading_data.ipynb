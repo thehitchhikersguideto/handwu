{
 "cells": [
  {
   "attachments": {},
   "cell_type": "markdown",
   "metadata": {},
   "source": [
    "# EDA and Folder Handling\n",
    "\n",
    "Since the data is in a folder, we need to load it in a way that we can access it. We will use the `os` library to do this. We will also use the `glob` library to get a list of all the files in the folder.\n",
    "\n",
    "In ordert to maintain the structure of the general, we will only be accessing the data and converting path links and text within .csv files to a dataframe."
   ]
  },
  {
   "cell_type": "code",
   "execution_count": 1,
   "metadata": {},
   "outputs": [],
   "source": [
    "# Imports\n",
    "import pandas as pd\n",
    "import numpy as np\n",
    "import os\n",
    "import glob\n",
    "import warnings\n",
    "import csv\n",
    "\n",
    "warnings.simplefilter(action='ignore', category=FutureWarning)\n"
   ]
  },
  {
   "cell_type": "code",
   "execution_count": 2,
   "metadata": {},
   "outputs": [
    {
     "name": "stdout",
     "output_type": "stream",
     "text": [
      "c:\\Users\\tonyf\\OneDrive - IE Students\\Third Year\\Q2\\Statistical Learning\\Session 12\\Repo\\handwu\\data\\data.txt\n"
     ]
    }
   ],
   "source": [
    "# access the folder\n",
    "pwd = os.getcwd()\n",
    "\n",
    "folder = pwd\n",
    "# create a list of all the files in each folder\n",
    "files_list = []\n",
    "folder_list = []\n",
    "# open the folder\n",
    "for folder in glob.glob(folder + '/*'):\n",
    "\n",
    "    if folder.endswith('.py'):\n",
    "        continue\n",
    "    elif folder.endswith('.ipynb'):\n",
    "        continue\n",
    "    else:\n",
    "        print(folder)\n",
    "        folder_list.append(folder)\n",
    "\n",
    "for folder in folder_list:\n",
    "    for file in glob.glob(folder + '/*'):\n",
    "        files_list.append(file)"
   ]
  },
  {
   "cell_type": "code",
   "execution_count": 20,
   "metadata": {},
   "outputs": [],
   "source": [
    "# Instantiate a dataframe \n",
    "df = pd.DataFrame(columns=['folder', 'file_name', 'text'])\n"
   ]
  },
  {
   "cell_type": "code",
   "execution_count": 22,
   "metadata": {},
   "outputs": [
    {
     "data": {
      "text/html": [
       "<div>\n",
       "<style scoped>\n",
       "    .dataframe tbody tr th:only-of-type {\n",
       "        vertical-align: middle;\n",
       "    }\n",
       "\n",
       "    .dataframe tbody tr th {\n",
       "        vertical-align: top;\n",
       "    }\n",
       "\n",
       "    .dataframe thead th {\n",
       "        text-align: right;\n",
       "    }\n",
       "</style>\n",
       "<table border=\"1\" class=\"dataframe\">\n",
       "  <thead>\n",
       "    <tr style=\"text-align: right;\">\n",
       "      <th></th>\n",
       "      <th>folder</th>\n",
       "      <th>file_name</th>\n",
       "      <th>text</th>\n",
       "    </tr>\n",
       "  </thead>\n",
       "  <tbody>\n",
       "    <tr>\n",
       "      <th>0</th>\n",
       "      <td>Fuente9</td>\n",
       "      <td>parte_amistoso_5_19.csv</td>\n",
       "      <td>NaN</td>\n",
       "    </tr>\n",
       "    <tr>\n",
       "      <th>1</th>\n",
       "      <td>Fuente9</td>\n",
       "      <td>parte_amistoso_0_4.jpg</td>\n",
       "      <td>NaN</td>\n",
       "    </tr>\n",
       "    <tr>\n",
       "      <th>2</th>\n",
       "      <td>Fuente9</td>\n",
       "      <td>parte_amistoso_2_10.csv</td>\n",
       "      <td>NaN</td>\n",
       "    </tr>\n",
       "    <tr>\n",
       "      <th>3</th>\n",
       "      <td>Fuente9</td>\n",
       "      <td>parte_amistoso_2_38.csv</td>\n",
       "      <td>NaN</td>\n",
       "    </tr>\n",
       "    <tr>\n",
       "      <th>4</th>\n",
       "      <td>Fuente9</td>\n",
       "      <td>parte_amistoso_5_31.csv</td>\n",
       "      <td>NaN</td>\n",
       "    </tr>\n",
       "  </tbody>\n",
       "</table>\n",
       "</div>"
      ],
      "text/plain": [
       "    folder                file_name text\n",
       "0  Fuente9  parte_amistoso_5_19.csv  NaN\n",
       "1  Fuente9   parte_amistoso_0_4.jpg  NaN\n",
       "2  Fuente9  parte_amistoso_2_10.csv  NaN\n",
       "3  Fuente9  parte_amistoso_2_38.csv  NaN\n",
       "4  Fuente9  parte_amistoso_5_31.csv  NaN"
      ]
     },
     "execution_count": 22,
     "metadata": {},
     "output_type": "execute_result"
    }
   ],
   "source": [
    "for file in files_list:\n",
    "    file = file.split('/')\n",
    "    folder = file[7]\n",
    "    file = file[8]    \n",
    "    df = df.append({'folder': folder, 'file_name': file}, ignore_index=True)\n",
    " \n",
    "    \n",
    "\n",
    "df.head()\n"
   ]
  },
  {
   "cell_type": "code",
   "execution_count": 36,
   "metadata": {},
   "outputs": [
    {
     "name": "stdout",
     "output_type": "stream",
     "text": [
      "Showing the dataframe after dropping the csv files:\n",
      "                      folder                file_name text\n",
      "1  Fuente9   parte_amistoso_0_4.jpg  NaN\n",
      "6  Fuente9  parte_amistoso_7_17.jpg  NaN\n",
      "7  Fuente9  parte_amistoso_0_36.jpg  NaN\n",
      "8  Fuente9  parte_amistoso_9_12.jpg  NaN\n",
      "9  Fuente9  parte_amistoso_0_22.jpg  NaN \n",
      "\n",
      " With the following folders:\n",
      " ['Fuente9' 'Fuente0' 'Fuente1' 'Fuente6' 'Fuente3' 'Fuente4' 'Fuente5'\n",
      " 'Fuente2']\n"
     ]
    }
   ],
   "source": [
    "def drop_csvs(df):\n",
    "    for file in df['file_name']: \n",
    "        if file.endswith('.csv'):\n",
    "            df.drop(df[df['file_name'] == file].index, inplace = True)\n",
    "        else:\n",
    "            continue\n",
    "    print(f'Showing the dataframe after dropping the csv files:\\n\\\n",
    "                  {df.head()} \\n\\n With the following folders:\\n {df[\"folder\"].unique()}')\n",
    "    \n",
    "\n",
    "drop_csvs(df)"
   ]
  },
  {
   "cell_type": "code",
   "execution_count": 38,
   "metadata": {},
   "outputs": [
    {
     "name": "stdout",
     "output_type": "stream",
     "text": [
      "Showing the dataframe after adding the text from the csv files:\n",
      "    folder                file_name  \\\n",
      "1  Fuente9   parte_amistoso_0_4.jpg   \n",
      "6  Fuente9  parte_amistoso_7_17.jpg   \n",
      "7  Fuente9  parte_amistoso_0_36.jpg   \n",
      "8  Fuente9  parte_amistoso_9_12.jpg   \n",
      "9  Fuente9  parte_amistoso_0_22.jpg   \n",
      "\n",
      "                                                text  \n",
      "1   Unnamed: 0 campo x y w h text0 0 fecha 42 105...  \n",
      "6   Unnamed: 0 campo x y w h text0 0 fecha 42 106...  \n",
      "7   Unnamed: 0 campo x y w h text0 0 fecha 42 105...  \n",
      "8   Unnamed: 0 campo x y w h text0 0 fecha 42 105...  \n",
      "9   Unnamed: 0 campo x y w h text0 0 fecha 42 105...  \n"
     ]
    }
   ],
   "source": [
    "def get_text_from_csv(file): \n",
    "    with open(file, 'r') as f:\n",
    "        reader = csv.reader(f)\n",
    "        # convert reader obejct to body of text\n",
    "        text = ''\n",
    "        for row in reader:\n",
    "            text += ' '.join(row)\n",
    "        return text\n",
    "\n",
    "def change_file_name_string(file):\n",
    "    file = file.replace('.jpg', '.csv')\n",
    "    return file\n",
    "\n",
    "\n",
    "def add_text_from_csv_to_df(df):\n",
    "    for index, row in df.iterrows():\n",
    "        file = change_file_name_string(row['file_name'])\n",
    "        folder = row['folder']\n",
    "        \n",
    "        PATH = f'./{folder}/{file}'\n",
    "        # if path exists \n",
    "        if os.path.exists(PATH):\n",
    "            text = get_text_from_csv(PATH)\n",
    "            df.loc[index, 'text'] = text\n",
    "            # df.loc[index, 'text_original'] = file used this to check that the csv and the jpgs matched\n",
    "    print(f'Showing the dataframe after adding the text from the csv files:\\n{df.head()}')\n",
    "            \n",
    "add_text_from_csv_to_df(df)\n"
   ]
  },
  {
   "cell_type": "code",
   "execution_count": 40,
   "metadata": {},
   "outputs": [
    {
     "name": "stdout",
     "output_type": "stream",
     "text": [
      "File saved\n"
     ]
    }
   ],
   "source": [
    "def save_csv_file(df):\n",
    "    df.to_csv(f'{pwd}/df.csv', index=False)\n",
    "    print('File saved')\n",
    "\n",
    "save_csv_file(df)\n"
   ]
  },
  {
   "cell_type": "code",
   "execution_count": null,
   "metadata": {},
   "outputs": [],
   "source": []
  }
 ],
 "metadata": {
  "kernelspec": {
   "display_name": "base",
   "language": "python",
   "name": "python3"
  },
  "language_info": {
   "codemirror_mode": {
    "name": "ipython",
    "version": 3
   },
   "file_extension": ".py",
   "mimetype": "text/x-python",
   "name": "python",
   "nbconvert_exporter": "python",
   "pygments_lexer": "ipython3",
   "version": "3.10.9"
  },
  "orig_nbformat": 4
 },
 "nbformat": 4,
 "nbformat_minor": 2
}
