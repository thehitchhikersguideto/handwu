{
 "cells": [
  {
   "cell_type": "code",
   "execution_count": 5,
   "metadata": {},
   "outputs": [
    {
     "name": "stdout",
     "output_type": "stream",
     "text": [
      "Vehiculo B\n",
      "\n",
      "6 rado (vease poliza de seguro)\n",
      "\n",
      "Direccion:.ef..wcllar...A.\n",
      "\n",
      "RA cal\n",
      "\n",
      "Tel. oE-mail: 2-cas9 afrvel Monact oa\n",
      "\n",
      "\n"
     ]
    }
   ],
   "source": [
    "from PIL import Image\n",
    "from pytesseract import pytesseract\n",
    "import os\n",
    "\n",
    "#Define path to tessaract.exe\n",
    "path_to_tesseract = r'C:/Program Files/Tesseract-OCR/tesseract.exe'\n",
    "\n",
    "#Define path to images folder\n",
    "path_to_images = r'test/'\n",
    "\n",
    "#Point tessaract_cmd to tessaract.exe\n",
    "pytesseract.tesseract_cmd = path_to_tesseract\n",
    "\n",
    "#Get the file names in the directory\n",
    "for root, dirs, file_names in os.walk(path_to_images):\n",
    "    #Iterate over each file name in the folder\n",
    "    for file_name in file_names:\n",
    "        if file_name.startswith('.') == True or file_name.endswith('.csv') == True:\n",
    "            continue\n",
    "        else:\n",
    "            #Open image with PIL\n",
    "            img = Image.open(path_to_images + file_name)\n",
    "\n",
    "            #Extract text from image\n",
    "            text = pytesseract.image_to_string(img)\n",
    "\n",
    "            print(text)"
   ]
  }
 ],
 "metadata": {
  "kernelspec": {
   "display_name": "Python 3",
   "language": "python",
   "name": "python3"
  },
  "language_info": {
   "codemirror_mode": {
    "name": "ipython",
    "version": 3
   },
   "file_extension": ".py",
   "mimetype": "text/x-python",
   "name": "python",
   "nbconvert_exporter": "python",
   "pygments_lexer": "ipython3",
   "version": "3.9.13"
  },
  "orig_nbformat": 4
 },
 "nbformat": 4,
 "nbformat_minor": 2
}
